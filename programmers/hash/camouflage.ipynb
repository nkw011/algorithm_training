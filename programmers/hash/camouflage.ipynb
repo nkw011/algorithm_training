{
 "cells": [
  {
   "cell_type": "code",
   "execution_count": 17,
   "metadata": {},
   "outputs": [],
   "source": [
    "# https://programmers.co.kr/learn/courses/30/lessons/42578\n",
    "\n",
    "from collections import Counter\n",
    "from functools import reduce\n",
    "\n",
    "def solution(clothes):\n",
    "    cloth = {}\n",
    "    for name, tp in clothes:\n",
    "        if tp in cloth.keys():\n",
    "            cloth[tp] += 1\n",
    "        else:\n",
    "            cloth[tp] = 1\n",
    "    total = 1\n",
    "    for tp in cloth.keys():\n",
    "        total *= (cloth[tp]+1)\n",
    "    return total-1\n",
    "\n",
    "\n",
    "# 와... 이건 알면서도 사용을 못했네\n",
    "def solution(clothes):\n",
    "    cloth = Counter([kind for name, kind in clothes])\n",
    "    ret = reduce(lambda x, y: x * (y+1),cloth.values(),1)\n",
    "    return ret-1\n",
    "    "
   ]
  }
 ],
 "metadata": {
  "interpreter": {
   "hash": "40d3a090f54c6569ab1632332b64b2c03c39dcf918b08424e98f38b5ae0af88f"
  },
  "kernelspec": {
   "display_name": "Python 3.8.8 64-bit ('base': conda)",
   "language": "python",
   "name": "python3"
  },
  "language_info": {
   "codemirror_mode": {
    "name": "ipython",
    "version": 3
   },
   "file_extension": ".py",
   "mimetype": "text/x-python",
   "name": "python",
   "nbconvert_exporter": "python",
   "pygments_lexer": "ipython3",
   "version": "3.8.8"
  },
  "orig_nbformat": 4
 },
 "nbformat": 4,
 "nbformat_minor": 2
}
