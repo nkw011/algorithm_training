{
 "cells": [
  {
   "cell_type": "code",
   "execution_count": 21,
   "metadata": {},
   "outputs": [],
   "source": [
    "from collections import defaultdict\n",
    "\n",
    "def solution(genres,play):\n",
    "    played_genre = defaultdict(int)\n",
    "    song = defaultdict(list)\n",
    "    for idx,g,p in zip(list(range(len(play))),genres,play):\n",
    "        played_genre[g] += p\n",
    "        song[g].append(idx)\n",
    "    for arr in song.values():\n",
    "        arr.sort(key=lambda x: -play[x])\n",
    "    prior = [num for arr in song.values() for idx, num in enumerate(arr) if idx < 2]\n",
    "    prior.sort(key=lambda x: -played_genre[genres[x]])\n",
    "    return prior"
   ]
  },
  {
   "cell_type": "code",
   "execution_count": 22,
   "metadata": {},
   "outputs": [
    {
     "data": {
      "text/plain": [
       "[4, 1, 3, 0]"
      ]
     },
     "execution_count": 22,
     "metadata": {},
     "output_type": "execute_result"
    }
   ],
   "source": [
    "solution([\"classic\", \"pop\", \"classic\", \"classic\", \"pop\"],[500, 600, 150, 800, 2500])"
   ]
  }
 ],
 "metadata": {
  "interpreter": {
   "hash": "40d3a090f54c6569ab1632332b64b2c03c39dcf918b08424e98f38b5ae0af88f"
  },
  "kernelspec": {
   "display_name": "Python 3.8.8 64-bit ('base': conda)",
   "language": "python",
   "name": "python3"
  },
  "language_info": {
   "codemirror_mode": {
    "name": "ipython",
    "version": 3
   },
   "file_extension": ".py",
   "mimetype": "text/x-python",
   "name": "python",
   "nbconvert_exporter": "python",
   "pygments_lexer": "ipython3",
   "version": "3.8.8"
  },
  "orig_nbformat": 4
 },
 "nbformat": 4,
 "nbformat_minor": 2
}
